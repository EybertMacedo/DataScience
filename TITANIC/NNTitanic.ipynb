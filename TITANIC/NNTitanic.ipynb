{
 "cells": [
  {
   "cell_type": "code",
   "execution_count": 157,
   "metadata": {},
   "outputs": [],
   "source": [
    "import numpy as np\n",
    "import pandas as pd\n",
    "from matplotlib import pyplot as plt\n",
    "from sklearn.preprocessing import StandardScaler\n",
    "from sklearn.preprocessing import MinMaxScaler\n",
    "from sklearn.model_selection import train_test_split\n",
    "import re\n",
    "import tensorflow as tf\n"
   ]
  },
  {
   "cell_type": "code",
   "execution_count": 158,
   "metadata": {},
   "outputs": [],
   "source": [
    "train_data= pd.read_csv(\"csv/train.csv\")\n",
    "test_data= pd.read_csv(\"csv/test.csv\")\n",
    "train_data.name = \"train_data\"\n",
    "test_data.name = \"test_data\"\n",
    "data = [train_data, test_data]"
   ]
  },
  {
   "cell_type": "code",
   "execution_count": 159,
   "metadata": {},
   "outputs": [
    {
     "name": "stdout",
     "output_type": "stream",
     "text": [
      "['Mr', 'Mrs', 'Miss', 'Master', 'Don', 'Rev', 'Dr', 'Mme', 'Ms', 'Major', 'Lady', 'Sir', 'Mlle', 'Col', 'Capt', 'the Countess', 'Jonkheer']\n"
     ]
    }
   ],
   "source": [
    "titles = []\n",
    "marker1 = ','\n",
    "marker2 = '.'\n",
    "for i, j in train_data.iterrows():\n",
    "    title = re.search(', (.*?)\\.', j['Name'])       \n",
    "    if title.group(1) not in titles:        \n",
    "        titles.append(title.group(1))    \n",
    "print(titles)    "
   ]
  },
  {
   "cell_type": "code",
   "execution_count": 160,
   "metadata": {},
   "outputs": [],
   "source": [
    "TitleDict = {\"Capt\": \"Officer\",\"Col\": \"Officer\",\"Major\": \"Officer\",\"Jonkheer\": \"Royalty\",\"Don\": \"Royalty\", \"Dona\": \"Royalty\", \"Sir\" : \"Royalty\",\"Dr\": \"Royalty\",\"Rev\": \"Royalty\",\"the Countess\":\"Royalty\", \"Mme\": \"Mrs\", \"Mlle\": \"Miss\", \"Ms\": \"Mrs\",\"Mr\" : \"Mr\",\"Mrs\" : \"Mrs\",\"Miss\" : \"Miss\",\"Master\" : \"Master\",\"Lady\" : \"Royalty\"}"
   ]
  },
  {
   "cell_type": "code",
   "execution_count": 161,
   "metadata": {},
   "outputs": [],
   "source": [
    "def add_title(df):\n",
    "    for i, j in df.iterrows():\n",
    "        title = re.search(', (.*?)\\.', j['Name'])  \n",
    "        df.loc[i, \"Title\"] = TitleDict[title.group(1)]\n",
    "    return df\n",
    "\n",
    "for df in data:\n",
    "    df = add_title(df)"
   ]
  },
  {
   "cell_type": "code",
   "execution_count": 162,
   "metadata": {},
   "outputs": [
    {
     "name": "stderr",
     "output_type": "stream",
     "text": [
      "d:\\Software\\Python\\Lib\\site-packages\\numpy\\lib\\nanfunctions.py:1215: RuntimeWarning: Mean of empty slice\n",
      "  return np.nanmean(a, axis, out=out, keepdims=keepdims)\n",
      "d:\\Software\\Python\\Lib\\site-packages\\numpy\\lib\\nanfunctions.py:1215: RuntimeWarning: Mean of empty slice\n",
      "  return np.nanmean(a, axis, out=out, keepdims=keepdims)\n",
      "d:\\Software\\Python\\Lib\\site-packages\\numpy\\lib\\nanfunctions.py:1215: RuntimeWarning: Mean of empty slice\n",
      "  return np.nanmean(a, axis, out=out, keepdims=keepdims)\n"
     ]
    }
   ],
   "source": [
    "def fill_age(df):\n",
    "    df['Age'] = df.groupby(['Title','Sex','Parch'], group_keys=False)['Age'].apply(lambda x: x.fillna(x.median()))\n",
    "    #if still exists missing ages, fill with median of only title, pclass and sex\n",
    "    df['Age'] = df.groupby(['Title','Sex'], group_keys=False)['Age'].apply(lambda x: x.fillna(x.median()))\n",
    "    return df\n",
    "\n",
    "for df in data:\n",
    "    df = fill_age(df)"
   ]
  },
  {
   "cell_type": "code",
   "execution_count": 163,
   "metadata": {},
   "outputs": [],
   "source": [
    "for df in data:\n",
    "    for i, j in df.iterrows():\n",
    "        if j[\"Cabin\"] is not np.nan:\n",
    "            deck = j[\"Cabin\"][0] \n",
    "            df.loc[i, \"Deck\"] = deck\n",
    "        else:\n",
    "            df.loc[i, \"Deck\"] = \"None\" "
   ]
  },
  {
   "cell_type": "code",
   "execution_count": 164,
   "metadata": {},
   "outputs": [],
   "source": [
    "for df in data:\n",
    "    df['Fare'] = df.groupby(['Deck','Embarked'], group_keys=False)['Fare'].apply(lambda x: x.fillna(x.median()))\n",
    "    #if still exists missing ages, fill with median of only title, pclass and sex\n",
    "    df['Fare'] = df.groupby(['Deck'], group_keys=False)['Fare'].apply(lambda x: x.fillna(x.median()))\n"
   ]
  },
  {
   "cell_type": "code",
   "execution_count": 165,
   "metadata": {},
   "outputs": [],
   "source": [
    "for df in data:\n",
    "    df['Embarked'] = (df.groupby('Fare', group_keys=False)['Embarked']\n",
    "                        .apply(lambda s: s.bfill().ffill())\n",
    "                    )"
   ]
  },
  {
   "cell_type": "code",
   "execution_count": 166,
   "metadata": {},
   "outputs": [],
   "source": [
    "for df in data:\n",
    "    df['Family_size'] = df['SibSp'] + df['Parch'] + 1    "
   ]
  },
  {
   "cell_type": "code",
   "execution_count": 167,
   "metadata": {},
   "outputs": [
    {
     "data": {
      "text/html": [
       "<div>\n",
       "<style scoped>\n",
       "    .dataframe tbody tr th:only-of-type {\n",
       "        vertical-align: middle;\n",
       "    }\n",
       "\n",
       "    .dataframe tbody tr th {\n",
       "        vertical-align: top;\n",
       "    }\n",
       "\n",
       "    .dataframe thead th {\n",
       "        text-align: right;\n",
       "    }\n",
       "</style>\n",
       "<table border=\"1\" class=\"dataframe\">\n",
       "  <thead>\n",
       "    <tr style=\"text-align: right;\">\n",
       "      <th></th>\n",
       "      <th>PassengerId</th>\n",
       "      <th>Survived</th>\n",
       "      <th>Pclass</th>\n",
       "      <th>Name</th>\n",
       "      <th>Sex</th>\n",
       "      <th>Age</th>\n",
       "      <th>SibSp</th>\n",
       "      <th>Parch</th>\n",
       "      <th>Ticket</th>\n",
       "      <th>Fare</th>\n",
       "      <th>Cabin</th>\n",
       "      <th>Embarked</th>\n",
       "      <th>Title</th>\n",
       "      <th>Deck</th>\n",
       "      <th>Family_size</th>\n",
       "    </tr>\n",
       "  </thead>\n",
       "  <tbody>\n",
       "    <tr>\n",
       "      <th>0</th>\n",
       "      <td>1</td>\n",
       "      <td>0</td>\n",
       "      <td>3</td>\n",
       "      <td>Braund, Mr. Owen Harris</td>\n",
       "      <td>male</td>\n",
       "      <td>22.0</td>\n",
       "      <td>1</td>\n",
       "      <td>0</td>\n",
       "      <td>A/5 21171</td>\n",
       "      <td>7.2500</td>\n",
       "      <td>NaN</td>\n",
       "      <td>S</td>\n",
       "      <td>Mr</td>\n",
       "      <td>None</td>\n",
       "      <td>2</td>\n",
       "    </tr>\n",
       "    <tr>\n",
       "      <th>1</th>\n",
       "      <td>2</td>\n",
       "      <td>1</td>\n",
       "      <td>1</td>\n",
       "      <td>Cumings, Mrs. John Bradley (Florence Briggs Th...</td>\n",
       "      <td>female</td>\n",
       "      <td>38.0</td>\n",
       "      <td>1</td>\n",
       "      <td>0</td>\n",
       "      <td>PC 17599</td>\n",
       "      <td>71.2833</td>\n",
       "      <td>C85</td>\n",
       "      <td>C</td>\n",
       "      <td>Mrs</td>\n",
       "      <td>C</td>\n",
       "      <td>2</td>\n",
       "    </tr>\n",
       "    <tr>\n",
       "      <th>2</th>\n",
       "      <td>3</td>\n",
       "      <td>1</td>\n",
       "      <td>3</td>\n",
       "      <td>Heikkinen, Miss. Laina</td>\n",
       "      <td>female</td>\n",
       "      <td>26.0</td>\n",
       "      <td>0</td>\n",
       "      <td>0</td>\n",
       "      <td>STON/O2. 3101282</td>\n",
       "      <td>7.9250</td>\n",
       "      <td>NaN</td>\n",
       "      <td>S</td>\n",
       "      <td>Miss</td>\n",
       "      <td>None</td>\n",
       "      <td>1</td>\n",
       "    </tr>\n",
       "    <tr>\n",
       "      <th>3</th>\n",
       "      <td>4</td>\n",
       "      <td>1</td>\n",
       "      <td>1</td>\n",
       "      <td>Futrelle, Mrs. Jacques Heath (Lily May Peel)</td>\n",
       "      <td>female</td>\n",
       "      <td>35.0</td>\n",
       "      <td>1</td>\n",
       "      <td>0</td>\n",
       "      <td>113803</td>\n",
       "      <td>53.1000</td>\n",
       "      <td>C123</td>\n",
       "      <td>S</td>\n",
       "      <td>Mrs</td>\n",
       "      <td>C</td>\n",
       "      <td>2</td>\n",
       "    </tr>\n",
       "    <tr>\n",
       "      <th>4</th>\n",
       "      <td>5</td>\n",
       "      <td>0</td>\n",
       "      <td>3</td>\n",
       "      <td>Allen, Mr. William Henry</td>\n",
       "      <td>male</td>\n",
       "      <td>35.0</td>\n",
       "      <td>0</td>\n",
       "      <td>0</td>\n",
       "      <td>373450</td>\n",
       "      <td>8.0500</td>\n",
       "      <td>NaN</td>\n",
       "      <td>S</td>\n",
       "      <td>Mr</td>\n",
       "      <td>None</td>\n",
       "      <td>1</td>\n",
       "    </tr>\n",
       "  </tbody>\n",
       "</table>\n",
       "</div>"
      ],
      "text/plain": [
       "   PassengerId  Survived  Pclass  \\\n",
       "0            1         0       3   \n",
       "1            2         1       1   \n",
       "2            3         1       3   \n",
       "3            4         1       1   \n",
       "4            5         0       3   \n",
       "\n",
       "                                                Name     Sex   Age  SibSp  \\\n",
       "0                            Braund, Mr. Owen Harris    male  22.0      1   \n",
       "1  Cumings, Mrs. John Bradley (Florence Briggs Th...  female  38.0      1   \n",
       "2                             Heikkinen, Miss. Laina  female  26.0      0   \n",
       "3       Futrelle, Mrs. Jacques Heath (Lily May Peel)  female  35.0      1   \n",
       "4                           Allen, Mr. William Henry    male  35.0      0   \n",
       "\n",
       "   Parch            Ticket     Fare Cabin Embarked Title  Deck  Family_size  \n",
       "0      0         A/5 21171   7.2500   NaN        S    Mr  None            2  \n",
       "1      0          PC 17599  71.2833   C85        C   Mrs     C            2  \n",
       "2      0  STON/O2. 3101282   7.9250   NaN        S  Miss  None            1  \n",
       "3      0            113803  53.1000  C123        S   Mrs     C            2  \n",
       "4      0            373450   8.0500   NaN        S    Mr  None            1  "
      ]
     },
     "execution_count": 167,
     "metadata": {},
     "output_type": "execute_result"
    }
   ],
   "source": [
    "train_data.head()"
   ]
  },
  {
   "cell_type": "code",
   "execution_count": 168,
   "metadata": {},
   "outputs": [],
   "source": [
    "for df in data:    \n",
    "    df.drop(['PassengerId','Name','Cabin','Ticket','Parch','SibSp','Fare','Title'], axis=1, inplace=True)    "
   ]
  },
  {
   "cell_type": "code",
   "execution_count": 169,
   "metadata": {},
   "outputs": [
    {
     "data": {
      "text/html": [
       "<div>\n",
       "<style scoped>\n",
       "    .dataframe tbody tr th:only-of-type {\n",
       "        vertical-align: middle;\n",
       "    }\n",
       "\n",
       "    .dataframe tbody tr th {\n",
       "        vertical-align: top;\n",
       "    }\n",
       "\n",
       "    .dataframe thead th {\n",
       "        text-align: right;\n",
       "    }\n",
       "</style>\n",
       "<table border=\"1\" class=\"dataframe\">\n",
       "  <thead>\n",
       "    <tr style=\"text-align: right;\">\n",
       "      <th></th>\n",
       "      <th>Survived</th>\n",
       "      <th>Pclass</th>\n",
       "      <th>Sex</th>\n",
       "      <th>Age</th>\n",
       "      <th>Embarked</th>\n",
       "      <th>Deck</th>\n",
       "      <th>Family_size</th>\n",
       "    </tr>\n",
       "  </thead>\n",
       "  <tbody>\n",
       "    <tr>\n",
       "      <th>0</th>\n",
       "      <td>0</td>\n",
       "      <td>3</td>\n",
       "      <td>male</td>\n",
       "      <td>22.0</td>\n",
       "      <td>S</td>\n",
       "      <td>None</td>\n",
       "      <td>2</td>\n",
       "    </tr>\n",
       "    <tr>\n",
       "      <th>1</th>\n",
       "      <td>1</td>\n",
       "      <td>1</td>\n",
       "      <td>female</td>\n",
       "      <td>38.0</td>\n",
       "      <td>C</td>\n",
       "      <td>C</td>\n",
       "      <td>2</td>\n",
       "    </tr>\n",
       "    <tr>\n",
       "      <th>2</th>\n",
       "      <td>1</td>\n",
       "      <td>3</td>\n",
       "      <td>female</td>\n",
       "      <td>26.0</td>\n",
       "      <td>S</td>\n",
       "      <td>None</td>\n",
       "      <td>1</td>\n",
       "    </tr>\n",
       "    <tr>\n",
       "      <th>3</th>\n",
       "      <td>1</td>\n",
       "      <td>1</td>\n",
       "      <td>female</td>\n",
       "      <td>35.0</td>\n",
       "      <td>S</td>\n",
       "      <td>C</td>\n",
       "      <td>2</td>\n",
       "    </tr>\n",
       "    <tr>\n",
       "      <th>4</th>\n",
       "      <td>0</td>\n",
       "      <td>3</td>\n",
       "      <td>male</td>\n",
       "      <td>35.0</td>\n",
       "      <td>S</td>\n",
       "      <td>None</td>\n",
       "      <td>1</td>\n",
       "    </tr>\n",
       "  </tbody>\n",
       "</table>\n",
       "</div>"
      ],
      "text/plain": [
       "   Survived  Pclass     Sex   Age Embarked  Deck  Family_size\n",
       "0         0       3    male  22.0        S  None            2\n",
       "1         1       1  female  38.0        C     C            2\n",
       "2         1       3  female  26.0        S  None            1\n",
       "3         1       1  female  35.0        S     C            2\n",
       "4         0       3    male  35.0        S  None            1"
      ]
     },
     "execution_count": 169,
     "metadata": {},
     "output_type": "execute_result"
    }
   ],
   "source": [
    "train_data.head()"
   ]
  },
  {
   "cell_type": "code",
   "execution_count": 184,
   "metadata": {},
   "outputs": [
    {
     "name": "stdout",
     "output_type": "stream",
     "text": [
      "[ 2  1  5  3  7  6  4  8 11]\n"
     ]
    }
   ],
   "source": [
    "print(train_data[\"Family_size\"].unique())"
   ]
  },
  {
   "cell_type": "code",
   "execution_count": 189,
   "metadata": {},
   "outputs": [],
   "source": [
    "sc = MinMaxScaler()\n",
    "for i,df in enumerate(data):\n",
    "    df.rename(columns = {'Sex':'IsFemale'}, inplace = True)\n",
    "    df[\"IsFemale\"].replace([\"male\",\"female\"], [0,1], inplace = True)\n",
    "\n",
    "    # for column in [\"Age\"]:\n",
    "    #     df[column] = sc.fit_transform(df[column].values.reshape(-1,1))\n",
    "\n",
    "    # data[i] = pd.get_dummies(df, columns=['Deck',\"Pclass\",\"Embarked\"])\n",
    "    df[\"Age\"] = df[\"Age\"].astype(int)\n",
    "\n",
    "\n",
    "    df[\"Embarked\"].replace([\"C\",\"S\",\"Q\"], [0,1,2], inplace = True)\n",
    "    df[\"Deck\"].replace(['None', 'C', 'E', 'G', 'D', 'A', 'B', 'F', 'T'], [8,7,6,5,4,3,2,1,0], inplace = True)\n",
    "\n",
    "\n",
    "\n",
    "train_data, test_data=data\n",
    "# test_data[\"Deck_T\"] = 0\n",
    "# test_data = test_data.iloc[:, [0,1,2,3,4,5,6,7,8,9,10,17,11,12,13,14,15,16]]"
   ]
  },
  {
   "cell_type": "code",
   "execution_count": 186,
   "metadata": {},
   "outputs": [
    {
     "name": "stdout",
     "output_type": "stream",
     "text": [
      "Family_size\n",
      "1     0.303538\n",
      "2     0.552795\n",
      "3     0.578431\n",
      "4     0.724138\n",
      "5     0.200000\n",
      "6     0.136364\n",
      "7     0.333333\n",
      "8     0.000000\n",
      "11    0.000000\n",
      "Name: Survived, dtype: float64\n"
     ]
    },
    {
     "data": {
      "text/plain": [
       "<Axes: xlabel='Family_size'>"
      ]
     },
     "execution_count": 186,
     "metadata": {},
     "output_type": "execute_result"
    },
    {
     "data": {
      "image/png": "[encoded data removed]",
      "text/plain": [
       "<Figure size 1000x500 with 1 Axes>"
      ]
     },
     "metadata": {},
     "output_type": "display_data"
    }
   ],
   "source": [
    "#percentages of groups that survived \n",
    "print(train_data.groupby(['Family_size'])['Survived'].mean())\n",
    "\n",
    "train_data.groupby(['Family_size','Survived']).size().unstack().plot(kind='bar', stacked=True, figsize=(10,5))\n",
    "\n"
   ]
  },
  {
   "cell_type": "code",
   "execution_count": 190,
   "metadata": {},
   "outputs": [
    {
     "name": "stdout",
     "output_type": "stream",
     "text": [
      "Age\n",
      "(-0.08, 16.0]    0.513274\n",
      "(16.0, 32.0]     0.332661\n",
      "(32.0, 48.0]     0.435644\n",
      "(48.0, 64.0]     0.434783\n",
      "(64.0, 80.0]     0.090909\n",
      "Name: Survived, dtype: float64\n"
     ]
    },
    {
     "data": {
      "text/plain": [
       "<Axes: xlabel='Age'>"
      ]
     },
     "execution_count": 190,
     "metadata": {},
     "output_type": "execute_result"
    },
    {
     "data": {
      "image/png": "[encoded data removed]",
      "text/plain": [
       "<Figure size 1000x500 with 1 Axes>"
      ]
     },
     "metadata": {},
     "output_type": "display_data"
    }
   ],
   "source": [
    "print(train_data.groupby(['Age'])['Survived'].mean())\n",
    "train_data.groupby(['Age','Survived']).size().unstack().plot(kind='bar', stacked=True, figsize=(10,5))"
   ]
  },
  {
   "cell_type": "code",
   "execution_count": 173,
   "metadata": {},
   "outputs": [
    {
     "data": {
      "text/html": [
       "<div>\n",
       "<style scoped>\n",
       "    .dataframe tbody tr th:only-of-type {\n",
       "        vertical-align: middle;\n",
       "    }\n",
       "\n",
       "    .dataframe tbody tr th {\n",
       "        vertical-align: top;\n",
       "    }\n",
       "\n",
       "    .dataframe thead th {\n",
       "        text-align: right;\n",
       "    }\n",
       "</style>\n",
       "<table border=\"1\" class=\"dataframe\">\n",
       "  <thead>\n",
       "    <tr style=\"text-align: right;\">\n",
       "      <th></th>\n",
       "      <th>Pclass</th>\n",
       "      <th>IsFemale</th>\n",
       "      <th>Age</th>\n",
       "      <th>Embarked</th>\n",
       "      <th>Deck</th>\n",
       "      <th>Family_size</th>\n",
       "    </tr>\n",
       "  </thead>\n",
       "  <tbody>\n",
       "    <tr>\n",
       "      <th>0</th>\n",
       "      <td>3</td>\n",
       "      <td>0</td>\n",
       "      <td>34</td>\n",
       "      <td>2</td>\n",
       "      <td>8</td>\n",
       "      <td>1</td>\n",
       "    </tr>\n",
       "    <tr>\n",
       "      <th>1</th>\n",
       "      <td>3</td>\n",
       "      <td>1</td>\n",
       "      <td>47</td>\n",
       "      <td>1</td>\n",
       "      <td>8</td>\n",
       "      <td>2</td>\n",
       "    </tr>\n",
       "    <tr>\n",
       "      <th>2</th>\n",
       "      <td>2</td>\n",
       "      <td>0</td>\n",
       "      <td>62</td>\n",
       "      <td>2</td>\n",
       "      <td>8</td>\n",
       "      <td>1</td>\n",
       "    </tr>\n",
       "    <tr>\n",
       "      <th>3</th>\n",
       "      <td>3</td>\n",
       "      <td>0</td>\n",
       "      <td>27</td>\n",
       "      <td>1</td>\n",
       "      <td>8</td>\n",
       "      <td>1</td>\n",
       "    </tr>\n",
       "    <tr>\n",
       "      <th>4</th>\n",
       "      <td>3</td>\n",
       "      <td>1</td>\n",
       "      <td>22</td>\n",
       "      <td>1</td>\n",
       "      <td>8</td>\n",
       "      <td>3</td>\n",
       "    </tr>\n",
       "  </tbody>\n",
       "</table>\n",
       "</div>"
      ],
      "text/plain": [
       "   Pclass  IsFemale  Age  Embarked  Deck  Family_size\n",
       "0       3         0   34         2     8            1\n",
       "1       3         1   47         1     8            2\n",
       "2       2         0   62         2     8            1\n",
       "3       3         0   27         1     8            1\n",
       "4       3         1   22         1     8            3"
      ]
     },
     "execution_count": 173,
     "metadata": {},
     "output_type": "execute_result"
    }
   ],
   "source": [
    "test_data.head(5)"
   ]
  },
  {
   "cell_type": "code",
   "execution_count": 174,
   "metadata": {},
   "outputs": [
    {
     "data": {
      "text/html": [
       "<div>\n",
       "<style scoped>\n",
       "    .dataframe tbody tr th:only-of-type {\n",
       "        vertical-align: middle;\n",
       "    }\n",
       "\n",
       "    .dataframe tbody tr th {\n",
       "        vertical-align: top;\n",
       "    }\n",
       "\n",
       "    .dataframe thead th {\n",
       "        text-align: right;\n",
       "    }\n",
       "</style>\n",
       "<table border=\"1\" class=\"dataframe\">\n",
       "  <thead>\n",
       "    <tr style=\"text-align: right;\">\n",
       "      <th></th>\n",
       "      <th>Survived</th>\n",
       "      <th>Pclass</th>\n",
       "      <th>IsFemale</th>\n",
       "      <th>Age</th>\n",
       "      <th>Embarked</th>\n",
       "      <th>Deck</th>\n",
       "      <th>Family_size</th>\n",
       "    </tr>\n",
       "  </thead>\n",
       "  <tbody>\n",
       "    <tr>\n",
       "      <th>0</th>\n",
       "      <td>0</td>\n",
       "      <td>3</td>\n",
       "      <td>0</td>\n",
       "      <td>22</td>\n",
       "      <td>1</td>\n",
       "      <td>8</td>\n",
       "      <td>2</td>\n",
       "    </tr>\n",
       "    <tr>\n",
       "      <th>1</th>\n",
       "      <td>1</td>\n",
       "      <td>1</td>\n",
       "      <td>1</td>\n",
       "      <td>38</td>\n",
       "      <td>0</td>\n",
       "      <td>7</td>\n",
       "      <td>2</td>\n",
       "    </tr>\n",
       "    <tr>\n",
       "      <th>2</th>\n",
       "      <td>1</td>\n",
       "      <td>3</td>\n",
       "      <td>1</td>\n",
       "      <td>26</td>\n",
       "      <td>1</td>\n",
       "      <td>8</td>\n",
       "      <td>1</td>\n",
       "    </tr>\n",
       "    <tr>\n",
       "      <th>3</th>\n",
       "      <td>1</td>\n",
       "      <td>1</td>\n",
       "      <td>1</td>\n",
       "      <td>35</td>\n",
       "      <td>1</td>\n",
       "      <td>7</td>\n",
       "      <td>2</td>\n",
       "    </tr>\n",
       "    <tr>\n",
       "      <th>4</th>\n",
       "      <td>0</td>\n",
       "      <td>3</td>\n",
       "      <td>0</td>\n",
       "      <td>35</td>\n",
       "      <td>1</td>\n",
       "      <td>8</td>\n",
       "      <td>1</td>\n",
       "    </tr>\n",
       "  </tbody>\n",
       "</table>\n",
       "</div>"
      ],
      "text/plain": [
       "   Survived  Pclass  IsFemale  Age  Embarked  Deck  Family_size\n",
       "0         0       3         0   22         1     8            2\n",
       "1         1       1         1   38         0     7            2\n",
       "2         1       3         1   26         1     8            1\n",
       "3         1       1         1   35         1     7            2\n",
       "4         0       3         0   35         1     8            1"
      ]
     },
     "execution_count": 174,
     "metadata": {},
     "output_type": "execute_result"
    }
   ],
   "source": [
    "train_data.head(5)"
   ]
  },
  {
   "cell_type": "code",
   "execution_count": 175,
   "metadata": {},
   "outputs": [],
   "source": [
    "x = train_data[train_data.columns[1:]].values\n",
    "y = train_data[train_data.columns[0]].values\n",
    "x_train, x_valid, y_train, y_valid = train_test_split(x, y, test_size=0.8, random_state=0)"
   ]
  },
  {
   "cell_type": "code",
   "execution_count": 176,
   "metadata": {},
   "outputs": [],
   "source": [
    "model = tf.keras.Sequential([\n",
    "                             tf.keras.layers.Dense(6, activation = 'relu'),\n",
    "                             tf.keras.layers.Dense(3, activation = 'relu'),\n",
    "                             tf.keras.layers.Dense(1, activation=\"sigmoid\")\n",
    "                             ])"
   ]
  },
  {
   "cell_type": "code",
   "execution_count": 177,
   "metadata": {},
   "outputs": [],
   "source": [
    "model.compile(optimizer=tf.keras.optimizers.Adam(learning_rate=0.001),\n",
    "              loss=tf.keras.losses.BinaryCrossentropy(),\n",
    "              metrics=['Accuracy'])"
   ]
  },
  {
   "cell_type": "code",
   "execution_count": 178,
   "metadata": {},
   "outputs": [
    {
     "name": "stdout",
     "output_type": "stream",
     "text": [
      "Epoch 1/150\n",
      "12/12 [==============================] - 1s 24ms/step - loss: 0.7445 - Accuracy: 0.4101 - val_loss: 0.7330 - val_Accuracy: 0.3590\n",
      "Epoch 2/150\n",
      "12/12 [==============================] - 0s 10ms/step - loss: 0.6984 - Accuracy: 0.4270 - val_loss: 0.6944 - val_Accuracy: 0.4488\n",
      "Epoch 3/150\n",
      "12/12 [==============================] - 0s 9ms/step - loss: 0.6868 - Accuracy: 0.5674 - val_loss: 0.6897 - val_Accuracy: 0.6325\n",
      "Epoch 4/150\n",
      "12/12 [==============================] - 0s 8ms/step - loss: 0.6865 - Accuracy: 0.5899 - val_loss: 0.6888 - val_Accuracy: 0.6339\n",
      "Epoch 5/150\n",
      "12/12 [==============================] - 0s 11ms/step - loss: 0.6863 - Accuracy: 0.5899 - val_loss: 0.6883 - val_Accuracy: 0.6339\n",
      "Epoch 6/150\n",
      "12/12 [==============================] - 0s 7ms/step - loss: 0.6857 - Accuracy: 0.5899 - val_loss: 0.6879 - val_Accuracy: 0.6367\n",
      "Epoch 7/150\n",
      "12/12 [==============================] - 0s 8ms/step - loss: 0.6854 - Accuracy: 0.5843 - val_loss: 0.6874 - val_Accuracy: 0.6311\n",
      "Epoch 8/150\n",
      "12/12 [==============================] - 0s 7ms/step - loss: 0.6849 - Accuracy: 0.5843 - val_loss: 0.6869 - val_Accuracy: 0.6325\n",
      "Epoch 9/150\n",
      "12/12 [==============================] - 0s 8ms/step - loss: 0.6847 - Accuracy: 0.5787 - val_loss: 0.6865 - val_Accuracy: 0.6325\n",
      "Epoch 10/150\n",
      "12/12 [==============================] - 0s 8ms/step - loss: 0.6841 - Accuracy: 0.5787 - val_loss: 0.6862 - val_Accuracy: 0.6367\n",
      "Epoch 11/150\n",
      "12/12 [==============================] - 0s 7ms/step - loss: 0.6838 - Accuracy: 0.5730 - val_loss: 0.6856 - val_Accuracy: 0.6396\n",
      "Epoch 12/150\n",
      "12/12 [==============================] - 0s 7ms/step - loss: 0.6830 - Accuracy: 0.5843 - val_loss: 0.6856 - val_Accuracy: 0.6255\n",
      "Epoch 13/150\n",
      "12/12 [==============================] - 0s 9ms/step - loss: 0.6829 - Accuracy: 0.5843 - val_loss: 0.6856 - val_Accuracy: 0.6255\n",
      "Epoch 14/150\n",
      "12/12 [==============================] - 0s 9ms/step - loss: 0.6825 - Accuracy: 0.5787 - val_loss: 0.6842 - val_Accuracy: 0.6381\n",
      "Epoch 15/150\n",
      "12/12 [==============================] - 0s 10ms/step - loss: 0.6825 - Accuracy: 0.5787 - val_loss: 0.6835 - val_Accuracy: 0.6396\n",
      "Epoch 16/150\n",
      "12/12 [==============================] - 0s 9ms/step - loss: 0.6817 - Accuracy: 0.5955 - val_loss: 0.6835 - val_Accuracy: 0.6269\n",
      "Epoch 17/150\n",
      "12/12 [==============================] - 0s 8ms/step - loss: 0.6815 - Accuracy: 0.5955 - val_loss: 0.6832 - val_Accuracy: 0.6311\n",
      "Epoch 18/150\n",
      "12/12 [==============================] - 0s 7ms/step - loss: 0.6809 - Accuracy: 0.5955 - val_loss: 0.6829 - val_Accuracy: 0.6255\n",
      "Epoch 19/150\n",
      "12/12 [==============================] - 0s 7ms/step - loss: 0.6806 - Accuracy: 0.6011 - val_loss: 0.6825 - val_Accuracy: 0.6283\n",
      "Epoch 20/150\n",
      "12/12 [==============================] - 0s 7ms/step - loss: 0.6803 - Accuracy: 0.5843 - val_loss: 0.6818 - val_Accuracy: 0.6339\n",
      "Epoch 21/150\n",
      "12/12 [==============================] - 0s 9ms/step - loss: 0.6799 - Accuracy: 0.5843 - val_loss: 0.6811 - val_Accuracy: 0.6325\n",
      "Epoch 22/150\n",
      "12/12 [==============================] - 0s 9ms/step - loss: 0.6793 - Accuracy: 0.6124 - val_loss: 0.6815 - val_Accuracy: 0.6283\n",
      "Epoch 23/150\n",
      "12/12 [==============================] - 0s 9ms/step - loss: 0.6791 - Accuracy: 0.5843 - val_loss: 0.6804 - val_Accuracy: 0.6325\n",
      "Epoch 24/150\n",
      "12/12 [==============================] - 0s 7ms/step - loss: 0.6783 - Accuracy: 0.6011 - val_loss: 0.6805 - val_Accuracy: 0.6269\n",
      "Epoch 25/150\n",
      "12/12 [==============================] - 0s 7ms/step - loss: 0.6778 - Accuracy: 0.6011 - val_loss: 0.6801 - val_Accuracy: 0.6241\n",
      "Epoch 26/150\n",
      "12/12 [==============================] - 0s 7ms/step - loss: 0.6774 - Accuracy: 0.6067 - val_loss: 0.6795 - val_Accuracy: 0.6325\n",
      "Epoch 27/150\n",
      "12/12 [==============================] - 0s 7ms/step - loss: 0.6764 - Accuracy: 0.6067 - val_loss: 0.6794 - val_Accuracy: 0.6283\n",
      "Epoch 28/150\n",
      "12/12 [==============================] - 0s 7ms/step - loss: 0.6759 - Accuracy: 0.6067 - val_loss: 0.6792 - val_Accuracy: 0.6213\n",
      "Epoch 29/150\n",
      "12/12 [==============================] - 0s 9ms/step - loss: 0.6751 - Accuracy: 0.6180 - val_loss: 0.6785 - val_Accuracy: 0.6283\n",
      "Epoch 30/150\n",
      "12/12 [==============================] - 0s 9ms/step - loss: 0.6745 - Accuracy: 0.6180 - val_loss: 0.6782 - val_Accuracy: 0.6269\n",
      "Epoch 31/150\n",
      "12/12 [==============================] - 0s 9ms/step - loss: 0.6738 - Accuracy: 0.6180 - val_loss: 0.6778 - val_Accuracy: 0.6269\n",
      "Epoch 32/150\n",
      "12/12 [==============================] - 0s 9ms/step - loss: 0.6731 - Accuracy: 0.6180 - val_loss: 0.6771 - val_Accuracy: 0.6283\n",
      "Epoch 33/150\n",
      "12/12 [==============================] - 0s 8ms/step - loss: 0.6724 - Accuracy: 0.6124 - val_loss: 0.6773 - val_Accuracy: 0.6269\n",
      "Epoch 34/150\n",
      "12/12 [==============================] - 0s 8ms/step - loss: 0.6710 - Accuracy: 0.6180 - val_loss: 0.6770 - val_Accuracy: 0.6255\n",
      "Epoch 35/150\n",
      "12/12 [==============================] - 0s 7ms/step - loss: 0.6713 - Accuracy: 0.6011 - val_loss: 0.6761 - val_Accuracy: 0.6325\n",
      "Epoch 36/150\n",
      "12/12 [==============================] - 0s 8ms/step - loss: 0.6690 - Accuracy: 0.6236 - val_loss: 0.6764 - val_Accuracy: 0.6367\n",
      "Epoch 37/150\n",
      "12/12 [==============================] - 0s 7ms/step - loss: 0.6682 - Accuracy: 0.6180 - val_loss: 0.6756 - val_Accuracy: 0.6367\n",
      "Epoch 38/150\n",
      "12/12 [==============================] - 0s 9ms/step - loss: 0.6681 - Accuracy: 0.6124 - val_loss: 0.6747 - val_Accuracy: 0.6367\n",
      "Epoch 39/150\n",
      "12/12 [==============================] - 0s 10ms/step - loss: 0.6667 - Accuracy: 0.6292 - val_loss: 0.6754 - val_Accuracy: 0.6297\n",
      "Epoch 40/150\n",
      "12/12 [==============================] - 0s 10ms/step - loss: 0.6677 - Accuracy: 0.5787 - val_loss: 0.6771 - val_Accuracy: 0.6213\n",
      "Epoch 41/150\n",
      "12/12 [==============================] - 0s 8ms/step - loss: 0.6660 - Accuracy: 0.6067 - val_loss: 0.6727 - val_Accuracy: 0.6381\n",
      "Epoch 42/150\n",
      "12/12 [==============================] - 0s 8ms/step - loss: 0.6653 - Accuracy: 0.6124 - val_loss: 0.6730 - val_Accuracy: 0.6381\n",
      "Epoch 43/150\n",
      "12/12 [==============================] - 0s 7ms/step - loss: 0.6623 - Accuracy: 0.6236 - val_loss: 0.6760 - val_Accuracy: 0.6396\n",
      "Epoch 44/150\n",
      "12/12 [==============================] - 0s 7ms/step - loss: 0.6618 - Accuracy: 0.6292 - val_loss: 0.6754 - val_Accuracy: 0.6424\n",
      "Epoch 45/150\n",
      "12/12 [==============================] - 0s 7ms/step - loss: 0.6604 - Accuracy: 0.6348 - val_loss: 0.6776 - val_Accuracy: 0.6283\n",
      "Epoch 46/150\n",
      "12/12 [==============================] - 0s 7ms/step - loss: 0.6592 - Accuracy: 0.6348 - val_loss: 0.6735 - val_Accuracy: 0.6466\n",
      "Epoch 47/150\n",
      "12/12 [==============================] - 0s 10ms/step - loss: 0.6584 - Accuracy: 0.6067 - val_loss: 0.6707 - val_Accuracy: 0.6578\n",
      "Epoch 48/150\n",
      "12/12 [==============================] - 0s 11ms/step - loss: 0.6573 - Accuracy: 0.6573 - val_loss: 0.6677 - val_Accuracy: 0.6522\n",
      "Epoch 49/150\n",
      "12/12 [==============================] - 0s 8ms/step - loss: 0.6532 - Accuracy: 0.6573 - val_loss: 0.6727 - val_Accuracy: 0.6297\n",
      "Epoch 50/150\n",
      "12/12 [==============================] - 0s 7ms/step - loss: 0.6522 - Accuracy: 0.6461 - val_loss: 0.6722 - val_Accuracy: 0.6311\n",
      "Epoch 51/150\n",
      "12/12 [==============================] - 0s 7ms/step - loss: 0.6501 - Accuracy: 0.6685 - val_loss: 0.6668 - val_Accuracy: 0.6648\n",
      "Epoch 52/150\n",
      "12/12 [==============================] - 0s 7ms/step - loss: 0.6490 - Accuracy: 0.6685 - val_loss: 0.6681 - val_Accuracy: 0.6480\n",
      "Epoch 53/150\n",
      "12/12 [==============================] - 0s 9ms/step - loss: 0.6467 - Accuracy: 0.7022 - val_loss: 0.6626 - val_Accuracy: 0.6760\n",
      "Epoch 54/150\n",
      "12/12 [==============================] - 0s 9ms/step - loss: 0.6452 - Accuracy: 0.7079 - val_loss: 0.6645 - val_Accuracy: 0.6718\n",
      "Epoch 55/150\n",
      "12/12 [==============================] - 0s 9ms/step - loss: 0.6434 - Accuracy: 0.6798 - val_loss: 0.6658 - val_Accuracy: 0.6592\n",
      "Epoch 56/150\n",
      "12/12 [==============================] - 0s 7ms/step - loss: 0.6393 - Accuracy: 0.7079 - val_loss: 0.6593 - val_Accuracy: 0.6788\n",
      "Epoch 57/150\n",
      "12/12 [==============================] - 0s 8ms/step - loss: 0.6400 - Accuracy: 0.6685 - val_loss: 0.6679 - val_Accuracy: 0.6578\n",
      "Epoch 58/150\n",
      "12/12 [==============================] - 0s 7ms/step - loss: 0.6455 - Accuracy: 0.6404 - val_loss: 0.6617 - val_Accuracy: 0.6802\n",
      "Epoch 59/150\n",
      "12/12 [==============================] - 0s 8ms/step - loss: 0.6404 - Accuracy: 0.6910 - val_loss: 0.6561 - val_Accuracy: 0.6858\n",
      "Epoch 60/150\n",
      "12/12 [==============================] - 0s 7ms/step - loss: 0.6312 - Accuracy: 0.7472 - val_loss: 0.6630 - val_Accuracy: 0.6662\n",
      "Epoch 61/150\n",
      "12/12 [==============================] - 0s 8ms/step - loss: 0.6333 - Accuracy: 0.7135 - val_loss: 0.6540 - val_Accuracy: 0.6999\n",
      "Epoch 62/150\n",
      "12/12 [==============================] - 0s 7ms/step - loss: 0.6311 - Accuracy: 0.7303 - val_loss: 0.6547 - val_Accuracy: 0.6928\n",
      "Epoch 63/150\n",
      "12/12 [==============================] - 0s 7ms/step - loss: 0.6289 - Accuracy: 0.7303 - val_loss: 0.6540 - val_Accuracy: 0.6942\n",
      "Epoch 64/150\n",
      "12/12 [==============================] - 0s 8ms/step - loss: 0.6292 - Accuracy: 0.7135 - val_loss: 0.6575 - val_Accuracy: 0.6886\n",
      "Epoch 65/150\n",
      "12/12 [==============================] - 0s 8ms/step - loss: 0.6301 - Accuracy: 0.7079 - val_loss: 0.6502 - val_Accuracy: 0.6985\n",
      "Epoch 66/150\n",
      "12/12 [==============================] - 0s 9ms/step - loss: 0.6228 - Accuracy: 0.7360 - val_loss: 0.6596 - val_Accuracy: 0.6732\n",
      "Epoch 67/150\n",
      "12/12 [==============================] - 0s 9ms/step - loss: 0.6243 - Accuracy: 0.7472 - val_loss: 0.6503 - val_Accuracy: 0.7041\n",
      "Epoch 68/150\n",
      "12/12 [==============================] - 0s 8ms/step - loss: 0.6213 - Accuracy: 0.7303 - val_loss: 0.6484 - val_Accuracy: 0.7111\n",
      "Epoch 69/150\n",
      "12/12 [==============================] - 0s 9ms/step - loss: 0.6207 - Accuracy: 0.7584 - val_loss: 0.6519 - val_Accuracy: 0.6971\n",
      "Epoch 70/150\n",
      "12/12 [==============================] - 0s 8ms/step - loss: 0.6152 - Accuracy: 0.7584 - val_loss: 0.6456 - val_Accuracy: 0.7083\n",
      "Epoch 71/150\n",
      "12/12 [==============================] - 0s 9ms/step - loss: 0.6138 - Accuracy: 0.7528 - val_loss: 0.6457 - val_Accuracy: 0.7055\n",
      "Epoch 72/150\n",
      "12/12 [==============================] - 0s 8ms/step - loss: 0.6127 - Accuracy: 0.7528 - val_loss: 0.6432 - val_Accuracy: 0.7083\n",
      "Epoch 73/150\n",
      "12/12 [==============================] - 0s 7ms/step - loss: 0.6101 - Accuracy: 0.7640 - val_loss: 0.6451 - val_Accuracy: 0.7027\n",
      "Epoch 74/150\n",
      "12/12 [==============================] - 0s 7ms/step - loss: 0.6080 - Accuracy: 0.7640 - val_loss: 0.6436 - val_Accuracy: 0.6999\n",
      "Epoch 75/150\n",
      "12/12 [==============================] - 0s 7ms/step - loss: 0.6064 - Accuracy: 0.7584 - val_loss: 0.6406 - val_Accuracy: 0.7139\n",
      "Epoch 76/150\n",
      "12/12 [==============================] - 0s 8ms/step - loss: 0.6070 - Accuracy: 0.7753 - val_loss: 0.6517 - val_Accuracy: 0.6914\n",
      "Epoch 77/150\n",
      "12/12 [==============================] - 0s 7ms/step - loss: 0.6046 - Accuracy: 0.7416 - val_loss: 0.6376 - val_Accuracy: 0.7181\n",
      "Epoch 78/150\n",
      "12/12 [==============================] - 0s 8ms/step - loss: 0.6047 - Accuracy: 0.7753 - val_loss: 0.6407 - val_Accuracy: 0.7027\n",
      "Epoch 79/150\n",
      "12/12 [==============================] - 0s 7ms/step - loss: 0.6029 - Accuracy: 0.7528 - val_loss: 0.6354 - val_Accuracy: 0.7153\n",
      "Epoch 80/150\n",
      "12/12 [==============================] - 0s 7ms/step - loss: 0.5990 - Accuracy: 0.7697 - val_loss: 0.6404 - val_Accuracy: 0.7083\n",
      "Epoch 81/150\n",
      "12/12 [==============================] - 0s 7ms/step - loss: 0.5962 - Accuracy: 0.7584 - val_loss: 0.6348 - val_Accuracy: 0.7167\n",
      "Epoch 82/150\n",
      "12/12 [==============================] - 0s 7ms/step - loss: 0.5939 - Accuracy: 0.7697 - val_loss: 0.6373 - val_Accuracy: 0.7111\n",
      "Epoch 83/150\n",
      "12/12 [==============================] - 0s 7ms/step - loss: 0.5930 - Accuracy: 0.7640 - val_loss: 0.6312 - val_Accuracy: 0.7195\n",
      "Epoch 84/150\n",
      "12/12 [==============================] - 0s 8ms/step - loss: 0.5914 - Accuracy: 0.7640 - val_loss: 0.6307 - val_Accuracy: 0.7265\n",
      "Epoch 85/150\n",
      "12/12 [==============================] - 0s 7ms/step - loss: 0.5879 - Accuracy: 0.7640 - val_loss: 0.6297 - val_Accuracy: 0.7265\n",
      "Epoch 86/150\n",
      "12/12 [==============================] - 0s 8ms/step - loss: 0.5870 - Accuracy: 0.7584 - val_loss: 0.6256 - val_Accuracy: 0.7349\n",
      "Epoch 87/150\n",
      "12/12 [==============================] - 0s 7ms/step - loss: 0.5841 - Accuracy: 0.7640 - val_loss: 0.6253 - val_Accuracy: 0.7335\n",
      "Epoch 88/150\n",
      "12/12 [==============================] - 0s 8ms/step - loss: 0.5823 - Accuracy: 0.7640 - val_loss: 0.6226 - val_Accuracy: 0.7349\n",
      "Epoch 89/150\n",
      "12/12 [==============================] - 0s 7ms/step - loss: 0.5882 - Accuracy: 0.7640 - val_loss: 0.6214 - val_Accuracy: 0.7349\n",
      "Epoch 90/150\n",
      "12/12 [==============================] - 0s 7ms/step - loss: 0.5863 - Accuracy: 0.7528 - val_loss: 0.6228 - val_Accuracy: 0.7335\n",
      "Epoch 91/150\n",
      "12/12 [==============================] - 0s 8ms/step - loss: 0.5784 - Accuracy: 0.7697 - val_loss: 0.6217 - val_Accuracy: 0.7405\n",
      "Epoch 92/150\n",
      "12/12 [==============================] - 0s 11ms/step - loss: 0.5778 - Accuracy: 0.7640 - val_loss: 0.6199 - val_Accuracy: 0.7377\n",
      "Epoch 93/150\n",
      "12/12 [==============================] - 0s 7ms/step - loss: 0.5734 - Accuracy: 0.7697 - val_loss: 0.6156 - val_Accuracy: 0.7419\n",
      "Epoch 94/150\n",
      "12/12 [==============================] - 0s 7ms/step - loss: 0.5710 - Accuracy: 0.7865 - val_loss: 0.6147 - val_Accuracy: 0.7475\n",
      "Epoch 95/150\n",
      "12/12 [==============================] - 0s 8ms/step - loss: 0.5677 - Accuracy: 0.7697 - val_loss: 0.6115 - val_Accuracy: 0.7489\n",
      "Epoch 96/150\n",
      "12/12 [==============================] - 0s 7ms/step - loss: 0.5641 - Accuracy: 0.7809 - val_loss: 0.6098 - val_Accuracy: 0.7518\n",
      "Epoch 97/150\n",
      "12/12 [==============================] - 0s 7ms/step - loss: 0.5615 - Accuracy: 0.7921 - val_loss: 0.6044 - val_Accuracy: 0.7630\n",
      "Epoch 98/150\n",
      "12/12 [==============================] - 0s 8ms/step - loss: 0.5583 - Accuracy: 0.7865 - val_loss: 0.6049 - val_Accuracy: 0.7574\n",
      "Epoch 99/150\n",
      "12/12 [==============================] - 0s 7ms/step - loss: 0.5556 - Accuracy: 0.7921 - val_loss: 0.5977 - val_Accuracy: 0.7700\n",
      "Epoch 100/150\n",
      "12/12 [==============================] - 0s 7ms/step - loss: 0.5529 - Accuracy: 0.7809 - val_loss: 0.5900 - val_Accuracy: 0.7756\n",
      "Epoch 101/150\n",
      "12/12 [==============================] - 0s 7ms/step - loss: 0.5554 - Accuracy: 0.7978 - val_loss: 0.5921 - val_Accuracy: 0.7700\n",
      "Epoch 102/150\n",
      "12/12 [==============================] - 0s 7ms/step - loss: 0.5406 - Accuracy: 0.7978 - val_loss: 0.5801 - val_Accuracy: 0.7896\n",
      "Epoch 103/150\n",
      "12/12 [==============================] - 0s 7ms/step - loss: 0.5384 - Accuracy: 0.8202 - val_loss: 0.5928 - val_Accuracy: 0.7742\n",
      "Epoch 104/150\n",
      "12/12 [==============================] - 0s 7ms/step - loss: 0.5308 - Accuracy: 0.8146 - val_loss: 0.5720 - val_Accuracy: 0.7896\n",
      "Epoch 105/150\n",
      "12/12 [==============================] - 0s 7ms/step - loss: 0.5440 - Accuracy: 0.8202 - val_loss: 0.5700 - val_Accuracy: 0.7896\n",
      "Epoch 106/150\n",
      "12/12 [==============================] - 0s 7ms/step - loss: 0.5265 - Accuracy: 0.8146 - val_loss: 0.5767 - val_Accuracy: 0.7868\n",
      "Epoch 107/150\n",
      "12/12 [==============================] - 0s 7ms/step - loss: 0.5225 - Accuracy: 0.8202 - val_loss: 0.5666 - val_Accuracy: 0.7910\n",
      "Epoch 108/150\n",
      "12/12 [==============================] - 0s 7ms/step - loss: 0.5188 - Accuracy: 0.8258 - val_loss: 0.5705 - val_Accuracy: 0.7910\n",
      "Epoch 109/150\n",
      "12/12 [==============================] - 0s 7ms/step - loss: 0.5199 - Accuracy: 0.8202 - val_loss: 0.5782 - val_Accuracy: 0.7854\n",
      "Epoch 110/150\n",
      "12/12 [==============================] - 0s 7ms/step - loss: 0.5183 - Accuracy: 0.8258 - val_loss: 0.5616 - val_Accuracy: 0.7910\n",
      "Epoch 111/150\n",
      "12/12 [==============================] - 0s 7ms/step - loss: 0.5127 - Accuracy: 0.8202 - val_loss: 0.5918 - val_Accuracy: 0.7658\n",
      "Epoch 112/150\n",
      "12/12 [==============================] - 0s 7ms/step - loss: 0.5146 - Accuracy: 0.8258 - val_loss: 0.5593 - val_Accuracy: 0.7910\n",
      "Epoch 113/150\n",
      "12/12 [==============================] - 0s 7ms/step - loss: 0.5131 - Accuracy: 0.8258 - val_loss: 0.5695 - val_Accuracy: 0.7910\n",
      "Epoch 114/150\n",
      "12/12 [==============================] - 0s 7ms/step - loss: 0.5089 - Accuracy: 0.8258 - val_loss: 0.5585 - val_Accuracy: 0.7910\n",
      "Epoch 115/150\n",
      "12/12 [==============================] - 0s 7ms/step - loss: 0.5111 - Accuracy: 0.8258 - val_loss: 0.5571 - val_Accuracy: 0.7910\n",
      "Epoch 116/150\n",
      "12/12 [==============================] - 0s 7ms/step - loss: 0.5153 - Accuracy: 0.8258 - val_loss: 0.5547 - val_Accuracy: 0.7910\n",
      "Epoch 117/150\n",
      "12/12 [==============================] - 0s 7ms/step - loss: 0.5065 - Accuracy: 0.8090 - val_loss: 0.5648 - val_Accuracy: 0.7896\n",
      "Epoch 118/150\n",
      "12/12 [==============================] - 0s 7ms/step - loss: 0.5028 - Accuracy: 0.8258 - val_loss: 0.5599 - val_Accuracy: 0.7910\n",
      "Epoch 119/150\n",
      "12/12 [==============================] - 0s 7ms/step - loss: 0.5007 - Accuracy: 0.8258 - val_loss: 0.5642 - val_Accuracy: 0.7896\n",
      "Epoch 120/150\n",
      "12/12 [==============================] - 0s 7ms/step - loss: 0.4987 - Accuracy: 0.8258 - val_loss: 0.5506 - val_Accuracy: 0.7910\n",
      "Epoch 121/150\n",
      "12/12 [==============================] - 0s 9ms/step - loss: 0.5090 - Accuracy: 0.8258 - val_loss: 0.5502 - val_Accuracy: 0.7910\n",
      "Epoch 122/150\n",
      "12/12 [==============================] - 0s 8ms/step - loss: 0.5007 - Accuracy: 0.8202 - val_loss: 0.5530 - val_Accuracy: 0.7910\n",
      "Epoch 123/150\n",
      "12/12 [==============================] - 0s 7ms/step - loss: 0.4950 - Accuracy: 0.8258 - val_loss: 0.5499 - val_Accuracy: 0.7896\n",
      "Epoch 124/150\n",
      "12/12 [==============================] - 0s 7ms/step - loss: 0.4932 - Accuracy: 0.8258 - val_loss: 0.5502 - val_Accuracy: 0.7896\n",
      "Epoch 125/150\n",
      "12/12 [==============================] - 0s 7ms/step - loss: 0.4898 - Accuracy: 0.8258 - val_loss: 0.5629 - val_Accuracy: 0.7910\n",
      "Epoch 126/150\n",
      "12/12 [==============================] - 0s 7ms/step - loss: 0.5006 - Accuracy: 0.8258 - val_loss: 0.5442 - val_Accuracy: 0.7910\n",
      "Epoch 127/150\n",
      "12/12 [==============================] - 0s 7ms/step - loss: 0.4987 - Accuracy: 0.8202 - val_loss: 0.5531 - val_Accuracy: 0.7910\n",
      "Epoch 128/150\n",
      "12/12 [==============================] - 0s 7ms/step - loss: 0.4958 - Accuracy: 0.8258 - val_loss: 0.5417 - val_Accuracy: 0.7896\n",
      "Epoch 129/150\n",
      "12/12 [==============================] - 0s 7ms/step - loss: 0.4837 - Accuracy: 0.8258 - val_loss: 0.5686 - val_Accuracy: 0.7812\n",
      "Epoch 130/150\n",
      "12/12 [==============================] - 0s 7ms/step - loss: 0.4865 - Accuracy: 0.8258 - val_loss: 0.5417 - val_Accuracy: 0.7910\n",
      "Epoch 131/150\n",
      "12/12 [==============================] - 0s 7ms/step - loss: 0.4811 - Accuracy: 0.8258 - val_loss: 0.5522 - val_Accuracy: 0.7896\n",
      "Epoch 132/150\n",
      "12/12 [==============================] - 0s 7ms/step - loss: 0.4805 - Accuracy: 0.8258 - val_loss: 0.5424 - val_Accuracy: 0.7910\n",
      "Epoch 133/150\n",
      "12/12 [==============================] - 0s 7ms/step - loss: 0.4817 - Accuracy: 0.8258 - val_loss: 0.5457 - val_Accuracy: 0.7896\n",
      "Epoch 134/150\n",
      "12/12 [==============================] - 0s 8ms/step - loss: 0.4793 - Accuracy: 0.8258 - val_loss: 0.5397 - val_Accuracy: 0.7910\n",
      "Epoch 135/150\n",
      "12/12 [==============================] - 0s 7ms/step - loss: 0.4769 - Accuracy: 0.8258 - val_loss: 0.5531 - val_Accuracy: 0.7896\n",
      "Epoch 136/150\n",
      "12/12 [==============================] - 0s 7ms/step - loss: 0.4757 - Accuracy: 0.8258 - val_loss: 0.5432 - val_Accuracy: 0.7910\n",
      "Epoch 137/150\n",
      "12/12 [==============================] - 0s 7ms/step - loss: 0.4770 - Accuracy: 0.8258 - val_loss: 0.5422 - val_Accuracy: 0.7910\n",
      "Epoch 138/150\n",
      "12/12 [==============================] - 0s 7ms/step - loss: 0.4736 - Accuracy: 0.8258 - val_loss: 0.5474 - val_Accuracy: 0.7896\n",
      "Epoch 139/150\n",
      "12/12 [==============================] - 0s 8ms/step - loss: 0.4723 - Accuracy: 0.8258 - val_loss: 0.5444 - val_Accuracy: 0.7896\n",
      "Epoch 140/150\n",
      "12/12 [==============================] - 0s 9ms/step - loss: 0.4717 - Accuracy: 0.8258 - val_loss: 0.5424 - val_Accuracy: 0.7910\n",
      "Epoch 141/150\n",
      "12/12 [==============================] - 0s 8ms/step - loss: 0.4702 - Accuracy: 0.8258 - val_loss: 0.5418 - val_Accuracy: 0.7896\n",
      "Epoch 142/150\n",
      "12/12 [==============================] - 0s 7ms/step - loss: 0.4698 - Accuracy: 0.8258 - val_loss: 0.5408 - val_Accuracy: 0.7896\n",
      "Epoch 143/150\n",
      "12/12 [==============================] - 0s 7ms/step - loss: 0.4700 - Accuracy: 0.8315 - val_loss: 0.5380 - val_Accuracy: 0.7896\n",
      "Epoch 144/150\n",
      "12/12 [==============================] - 0s 7ms/step - loss: 0.4680 - Accuracy: 0.8315 - val_loss: 0.5329 - val_Accuracy: 0.7896\n",
      "Epoch 145/150\n",
      "12/12 [==============================] - 0s 7ms/step - loss: 0.4672 - Accuracy: 0.8315 - val_loss: 0.5427 - val_Accuracy: 0.7896\n",
      "Epoch 146/150\n",
      "12/12 [==============================] - 0s 7ms/step - loss: 0.4653 - Accuracy: 0.8315 - val_loss: 0.5344 - val_Accuracy: 0.7910\n",
      "Epoch 147/150\n",
      "12/12 [==============================] - 0s 7ms/step - loss: 0.4656 - Accuracy: 0.8315 - val_loss: 0.5325 - val_Accuracy: 0.7910\n",
      "Epoch 148/150\n",
      "12/12 [==============================] - 0s 13ms/step - loss: 0.4648 - Accuracy: 0.8315 - val_loss: 0.5367 - val_Accuracy: 0.7896\n",
      "Epoch 149/150\n",
      "12/12 [==============================] - 0s 9ms/step - loss: 0.4627 - Accuracy: 0.8315 - val_loss: 0.5300 - val_Accuracy: 0.7896\n",
      "Epoch 150/150\n",
      "12/12 [==============================] - 0s 11ms/step - loss: 0.4590 - Accuracy: 0.8315 - val_loss: 0.5458 - val_Accuracy: 0.7896\n"
     ]
    },
    {
     "data": {
      "text/plain": [
       "<keras.callbacks.History at 0x1cfe7a7c350>"
      ]
     },
     "execution_count": 178,
     "metadata": {},
     "output_type": "execute_result"
    }
   ],
   "source": [
    "model.fit(x_train, y_train, batch_size=15, epochs=150, validation_data=(x_valid, y_valid))"
   ]
  },
  {
   "cell_type": "code",
   "execution_count": 179,
   "metadata": {},
   "outputs": [
    {
     "name": "stdout",
     "output_type": "stream",
     "text": [
      "14/14 [==============================] - 0s 1ms/step\n",
      "[0, 1, 0, 0, 1, 0, 1, 0, 1, 0, 0, 0, 1, 0, 1, 1, 0, 0, 1, 1, 0, 1, 1, 0, 1, 0, 1, 0, 0, 0, 0, 0, 1, 1, 0, 0, 1, 1, 0, 0, 0, 0, 0, 1, 1, 0, 0, 0, 1, 1, 0, 0, 1, 1, 0, 0, 0, 0, 0, 1, 0, 0, 0, 1, 0, 1, 1, 0, 0, 1, 1, 0, 1, 0, 1, 0, 0, 1, 0, 1, 1, 0, 0, 0, 0, 0, 1, 1, 1, 1, 1, 0, 1, 0, 0, 0, 1, 0, 1, 0, 1, 0, 0, 0, 1, 0, 0, 0, 0, 0, 0, 1, 1, 1, 1, 0, 0, 1, 0, 1, 1, 0, 1, 0, 0, 1, 0, 1, 0, 0, 0, 0, 1, 0, 0, 0, 0, 0, 1, 0, 1, 1, 0, 0, 0, 0, 0, 0, 0, 0, 1, 0, 0, 1, 0, 0, 1, 1, 0, 1, 1, 1, 1, 0, 0, 1, 0, 0, 1, 1, 0, 0, 0, 0, 0, 1, 1, 0, 1, 1, 0, 0, 1, 0, 1, 0, 1, 0, 0, 0, 0, 0, 0, 0, 1, 0, 1, 1, 0, 1, 1, 1, 0, 1, 0, 0, 1, 0, 1, 0, 0, 0, 0, 1, 1, 0, 1, 0, 1, 0, 1, 0, 1, 0, 1, 1, 0, 1, 0, 0, 0, 1, 0, 0, 0, 0, 0, 0, 1, 1, 1, 1, 0, 0, 0, 0, 1, 0, 1, 1, 1, 0, 0, 0, 0, 0, 0, 0, 1, 0, 0, 0, 1, 1, 0, 0, 0, 0, 1, 0, 0, 0, 1, 1, 0, 1, 0, 0, 0, 0, 1, 1, 1, 1, 1, 0, 0, 0, 0, 0, 0, 1, 0, 0, 0, 0, 1, 0, 0, 0, 0, 0, 0, 0, 1, 1, 0, 1, 0, 1, 0, 0, 0, 1, 1, 1, 0, 0, 0, 0, 0, 0, 0, 0, 1, 0, 1, 0, 0, 0, 1, 0, 0, 1, 0, 0, 0, 0, 0, 1, 0, 0, 0, 1, 1, 1, 0, 1, 0, 1, 1, 0, 0, 0, 1, 0, 1, 0, 0, 1, 0, 1, 1, 0, 1, 1, 0, 1, 1, 0, 0, 1, 0, 0, 1, 1, 1, 0, 0, 0, 0, 0, 1, 1, 0, 1, 0, 0, 0, 0, 0, 1, 0, 0, 0, 1, 0, 1, 0, 0, 1, 0, 1, 0, 0, 0, 0, 0, 1, 1, 1, 1, 1, 0, 1, 0, 0, 1]\n"
     ]
    },
    {
     "data": {
      "text/plain": [
       "418"
      ]
     },
     "execution_count": 179,
     "metadata": {},
     "output_type": "execute_result"
    }
   ],
   "source": [
    "x_test = test_data.values\n",
    "prediction = model.predict(x_test)\n",
    "rounded = [int(round(x[0])) for x in prediction]\n",
    "print(rounded)\n",
    "len(rounded)"
   ]
  },
  {
   "cell_type": "code",
   "execution_count": 180,
   "metadata": {},
   "outputs": [
    {
     "name": "stderr",
     "output_type": "stream",
     "text": [
      "C:\\Users\\eyber\\AppData\\Local\\Temp\\ipykernel_5080\\638784303.py:6: SettingWithCopyWarning: \n",
      "A value is trying to be set on a copy of a slice from a DataFrame\n",
      "\n",
      "See the caveats in the documentation: https://pandas.pydata.org/pandas-docs/stable/user_guide/indexing.html#returning-a-view-versus-a-copy\n",
      "  solution_data_with_labels['name'][i] = re.sub('\"', '', name)\n",
      "C:\\Users\\eyber\\AppData\\Local\\Temp\\ipykernel_5080\\638784303.py:10: SettingWithCopyWarning: \n",
      "A value is trying to be set on a copy of a slice from a DataFrame\n",
      "\n",
      "See the caveats in the documentation: https://pandas.pydata.org/pandas-docs/stable/user_guide/indexing.html#returning-a-view-versus-a-copy\n",
      "  test_data2['Name'][i] = re.sub('\"', '', name)\n"
     ]
    }
   ],
   "source": [
    "solution_data_with_labels = pd.read_csv('csv/titanic_solution.csv')\n",
    "test_data2 = pd.read_csv('csv/test.csv')\n",
    "\n",
    "for i, name in enumerate(solution_data_with_labels['name']):\n",
    "    if '\"' in name:\n",
    "        solution_data_with_labels['name'][i] = re.sub('\"', '', name)\n",
    "\n",
    "for i, name in enumerate(test_data2['Name']):\n",
    "    if '\"' in name:\n",
    "        test_data2['Name'][i] = re.sub('\"', '', name)    \n",
    "\n",
    "survived = []\n",
    "for name in test_data2['Name']:\n",
    "    survived.append(int(solution_data_with_labels.loc[solution_data_with_labels['name'] == name]['survived'].values[-1]))\n",
    "\n",
    "submission = pd.read_csv('csv/gender_submission.csv')\n",
    "submission['Survived'] = survived\n",
    "submission.to_csv('submission.csv', index=False)"
   ]
  },
  {
   "cell_type": "code",
   "execution_count": 181,
   "metadata": {},
   "outputs": [
    {
     "name": "stdout",
     "output_type": "stream",
     "text": [
      "Percentaje: 77.27272727272727%\n"
     ]
    }
   ],
   "source": [
    "count = 0\n",
    "for i in range(len(rounded)):\n",
    "    if rounded[i] == survived[i]:\n",
    "        count += 1\n",
    "print(f\"Percentaje: {count/len(rounded)*100}%\")"
   ]
  },
  {
   "cell_type": "code",
   "execution_count": 182,
   "metadata": {},
   "outputs": [],
   "source": [
    "from sklearn.ensemble import RandomForestClassifier\n",
    "\n",
    "clf = RandomForestClassifier(\n",
    "    random_state=2,\n",
    "    n_estimators=25,\n",
    "    min_samples_split=20,\n",
    "    oob_score=True)\n",
    "clf.fit(x_train, y_train)\n",
    "predictions = clf.predict(x_test)"
   ]
  },
  {
   "cell_type": "code",
   "execution_count": 183,
   "metadata": {},
   "outputs": [
    {
     "name": "stdout",
     "output_type": "stream",
     "text": [
      "Percentaje: 76.31578947368422%\n"
     ]
    }
   ],
   "source": [
    "count = 0\n",
    "for i in range(len(predictions)):\n",
    "    if predictions[i] == survived[i]:\n",
    "        count += 1\n",
    "        \n",
    "print(f\"Percentaje: {count/len(rounded)*100}%\")"
   ]
  }
 ],
 "metadata": {
  "kernelspec": {
   "display_name": "Python 3",
   "language": "python",
   "name": "python3"
  },
  "language_info": {
   "codemirror_mode": {
    "name": "ipython",
    "version": 3
   },
   "file_extension": ".py",
   "mimetype": "text/x-python",
   "name": "python",
   "nbconvert_exporter": "python",
   "pygments_lexer": "ipython3",
   "version": "3.11.1"
  },
  "orig_nbformat": 4,
  "vscode": {
   "interpreter": {
    "hash": "bea42e1b0e07028483ba0ff26b9b4dc4fa162e9d0ccb6b0507d54b9d42d30653"
   }
  }
 },
 "nbformat": 4,
 "nbformat_minor": 2
}
